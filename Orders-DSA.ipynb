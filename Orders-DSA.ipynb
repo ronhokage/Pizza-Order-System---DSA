{
  "cells": [
    {
      "cell_type": "code",
      "execution_count": null,
      "id": "71449528",
      "metadata": {
        "id": "71449528"
      },
      "outputs": [],
      "source": [
        "import datetime # To use date methods in python\n",
        "# Define class and required attributes\n",
        "class Store:\n",
        "    employees = []\n",
        "    def __init__(self, employees, address, phno, monthly_sales, zcode):\n",
        "        self.employees = employees\n",
        "        self.address = address\n",
        "        self.phno = phno\n",
        "        self.monthly_sales = monthly_sales\n",
        "        self.zcode= zcode\n",
        "    \n",
        "    monthly_sales = []\n",
        "\n",
        "    def monthly_pizza_sales(self):\n",
        "        return self.monthly_sales\n",
        "\n",
        "    def add_employee(self, employee):\n",
        "        self.employees.append(employee)\n",
        "\n",
        "class Pizza:\n",
        "\n",
        "    toppings = []\n",
        "\n",
        "    def __init__(self, toppings, price, c_type):\n",
        "        self.toppings = toppings\n",
        "        self.price = price\n",
        "        self.c_type = c_type\n",
        "\n",
        "    def add_topping(self,topping):\n",
        "        self.toppings.append(topping)\n",
        "\n",
        "    def remove_topping(self,topping):\n",
        "        self.toppings.remove(topping)\n",
        "\n",
        "    def update_crust(self):\n",
        "        if(self.c_type==\"THIN\"):\n",
        "            self.c_type = \"THICK\"\n",
        "        else:\n",
        "            self.c_type = \"THIN\"\n",
        "\n",
        "class Employee:\n",
        "    def __init__(self, first_name, last_name):\n",
        "        self.first_name = first_name\n",
        "        self.last_name = last_name\n",
        "        \n",
        "class Customer:\n",
        "    def __init__(self,first_name,last_name,phno,zip_code,fmn):\n",
        "        self.first_name = first_name\n",
        "        self.last_name = last_name\n",
        "        self.phno = phno\n",
        "        self.zip_code = zip_code\n",
        "        self.fmn = fmn\n",
        "\n",
        "class PizzaOrder:\n",
        "    pizzas = []\n",
        "\n",
        "    def __init__(self, pizzas:Pizza, store:Store, customer:Customer, order_date,ord_no ): \n",
        "        self.pizzas = pizzas\n",
        "        self.store = store\n",
        "        self.ord_status = \"ORDER_CREATED\"\n",
        "        self.order_date = datetime.datetime.strptime(order_date, '%m-%d-%Y').date()\n",
        "        self.ord_no=ord_no\n",
        "        self.customer=customer\n",
        "        self.total_amount = 0\n",
        "\n",
        "        for pizza in pizzas:\n",
        "            self.total_amount += pizza.price \n",
        "\n",
        "    # Promotion code, status of orders, order checks etc.\n",
        "\n",
        "    def promotion_code():\n",
        "        pass\n",
        "\n",
        "    def cancel_order(self):\n",
        "        self.ord_status = \"ORDER_CANCELLED\"\n",
        "\n",
        "    def order_ready(self):\n",
        "        self.ord_status = \"ORDER_READY\"\n",
        "\n",
        "    def order_delivery_check(self):\n",
        "        self.ord_status = \"ORDER_ON_DELIVERY\"\n",
        "\n",
        "    def order_complete(self):\n",
        "        self.ord_status = \"ORDER_COMPLETE\"\n",
        "\n",
        "    def add_to_order(self, pizza:Pizza):\n",
        "        self.pizzas.append(pizza)\n",
        "\n",
        "    # sort orders by order date\n",
        "    def order_by_order_date_time(self):\n",
        "        self.sort(key=lambda order_date:self.order_date)\n",
        "   \n",
        "   # To compare amount by order amount\n",
        "    def order_by_total_order_amount(self):\n",
        "        self.sort(key=lambda order_amount:self.total_order_amount)\n",
        "\n",
        "  # To compare costs      \n",
        "    def __lt__(self,other):\n",
        "        return self.total_amount<other.total_amount"
      ]
    },
    {
      "cell_type": "code",
      "execution_count": null,
      "id": "c85eed64",
      "metadata": {
        "id": "c85eed64"
      },
      "outputs": [],
      "source": [
        "# We would define our orders now\n",
        "pizzaorder =  PizzaOrder([Pizza([\"Pepperoni\",\"Mushroom\",\"Sausage\"],6000,\"THIN\")], Store([Employee(\"Sergio\",\"Ramos\")],\"Halefield View\",\"32547894\",[],21227), Customer(\"Klayton\",\"Philby\",\"072361881\",21227,70),'12-12-2021','12345')\n",
        "pizzaorder2 = PizzaOrder([Pizza([\"Origami\",\"Cheese\",\"Sausage\"],8000,\"THIN\")],Store([Employee(\"Paul\",\"Pogba\")],\"Arbutus Local\",\"784542159\",[],21224), Customer(\"William\",\"Richard\",\"072361881\",21224,40),'03-12-2014','45678')\n",
        "pizzaorder3 = PizzaOrder([Pizza([\"Macroni\",\"Tomatoes\",\"Capsicum\"],4000,\"THIN\")],Store([Employee(\"R\",\"Lukaku\")],\"Chings Street\",\"14748852\",[],21476), Customer(\"Hughes\",\"Son\",\"072361881\",21476,10),'03-12-2011','876543')\n",
        "pizzaorder4 = PizzaOrder([Pizza([\"Olives\",\"Mushroom\",\"Sausage\"],12000,\"THICK\")], Store([Employee(\"Baichung\",\"Bhutia\")],\"Maze Point\",\"32548741\",[],21321), Customer(\"Ryan\",\"Dsilva\",\"072366547\",21321,60),'02-12-2021','56789')\n",
        "pizzaorder5 = PizzaOrder([Pizza([\"Chilly Flakes\",\"Olives\",\"Sausage\"],4500,\"THICK\")],Store([Employee(\"Toni\",\"Kroos\")],\"Silver Street\",\"784541234\",[],21487), Customer(\"Quinton\",\"Murphy\",\"072367845\",21487,20),'01-12-2014','25847')\n",
        "orders = [pizzaorder, pizzaorder2, pizzaorder3,pizzaorder4,pizzaorder5]\n",
        "# Sorting as per the requirement.\n",
        "orders.sort(key=lambda x: x.order_date)"
      ]
    },
    {
      "cell_type": "code",
      "execution_count": null,
      "id": "798280a3",
      "metadata": {
        "id": "798280a3"
      },
      "outputs": [],
      "source": [
        "# Defining Linear Search where we are trying to see if an order was placed by a customer or not.\n",
        "c=[]\n",
        "def Linear_Search(a,b):\n",
        "    for i in orders:\n",
        "      c.append(i.customer.first_name+' '+i.customer.last_name)\n",
        "      fullname=a+' '+b\n",
        "    if fullname in c:\n",
        "        print('Order was placed by the customer')\n",
        "        print('Order No:',i.ord_no)\n",
        "        for y in i.pizzas:\n",
        "            print('The toppings were:',y.toppings)         \n",
        "    else:\n",
        "        print(\"No order was placed by this customer!\")\n",
        "\n",
        "# Algorithmic complexity-\n",
        "# O(N) is the algorithmic complexity of the above linear search method, where N is the len(c)"
      ]
    },
    {
      "cell_type": "code",
      "execution_count": null,
      "id": "af411eb4",
      "metadata": {
        "id": "af411eb4",
        "outputId": "2654008d-f0b5-4071-97b7-ee377cd20faa",
        "colab": {
          "base_uri": "https://localhost:8080/"
        }
      },
      "outputs": [
        {
          "output_type": "stream",
          "name": "stdout",
          "text": [
            "Order was placed by the customer\n",
            "Order No: 12345\n",
            "The toppings were: ['Pepperoni', 'Mushroom', 'Sausage']\n"
          ]
        }
      ],
      "source": [
        "Linear_Search(\"Hughes\",\"Son\")"
      ]
    },
    {
      "cell_type": "code",
      "source": [
        "Linear_Search(\"Lionel\",\"Messi\")"
      ],
      "metadata": {
        "colab": {
          "base_uri": "https://localhost:8080/"
        },
        "id": "KzAXPoOn53q8",
        "outputId": "06e4ff93-c735-474f-c9b8-cd6a50c785db"
      },
      "id": "KzAXPoOn53q8",
      "execution_count": null,
      "outputs": [
        {
          "output_type": "stream",
          "name": "stdout",
          "text": [
            "No order was placed by this customer!\n"
          ]
        }
      ]
    },
    {
      "cell_type": "code",
      "source": [
        "# Code reference- https://www.geeksforgeeks.org/binary-search-a-string/\n",
        "# Using Binary Search to find customer who placed the order.\n",
        "def binarySearch(arr, x):\n",
        "    l = 0\n",
        "    size = len(arr)\n",
        "    while (l <= size):\n",
        "        middle = l + ((size - l) // 2)\n",
        "        res = (x == arr[middle])\n",
        "        # Check if x exists at middle\n",
        "        if (res == 0):\n",
        "            return middle - 1\n",
        "        # If x be greater, we ignore left half\n",
        "        if (res > 0):\n",
        "            l = middle + 1\n",
        "        # If x be smaller, we ignore right half\n",
        "        else:\n",
        "            size = middle - 1\n",
        "    return -1\n",
        "x = \"Klayton Philby\" # Input Customer Name\n",
        "result = binarySearch(c, x) #c is the list where we have our customers stored, and we compare it with the input given\n",
        "if (result == -1):\n",
        "  print(\"Order not found\")\n",
        "else:\n",
        "  print(\"Order Is placed by the customer\")\n",
        "\n",
        "# Algorithmic Complexity-\n",
        "#O(log N), where N is the length of arr"
      ],
      "metadata": {
        "colab": {
          "base_uri": "https://localhost:8080/"
        },
        "id": "QFGh3-FFFFUy",
        "outputId": "49eabe18-d31b-4542-f599-33e58bd6a28f"
      },
      "id": "QFGh3-FFFFUy",
      "execution_count": null,
      "outputs": [
        {
          "output_type": "stream",
          "name": "stdout",
          "text": [
            "Order Is placed by the customer\n"
          ]
        }
      ]
    },
    {
      "cell_type": "code",
      "source": [
        "# Unit Testing- Employee details to see if orders were placed or not.\n",
        "def test(x):\n",
        "  try:\n",
        "      assert 'Hughes Son' in x\n",
        "      assert 'William Richard' in x\n",
        "      assert 'Klayton Philby' in x\n",
        "      assert 'Ryan Dsilva' in x\n",
        "      assert 'Quinton Murphy' in x\n",
        "      return True\n",
        "  except AssertionError as msg:\n",
        "    print('Test-Failed-All or one Employee dont match')"
      ],
      "metadata": {
        "id": "e_CH2i1AzlrP"
      },
      "id": "e_CH2i1AzlrP",
      "execution_count": null,
      "outputs": []
    },
    {
      "cell_type": "code",
      "source": [
        "test(c)"
      ],
      "metadata": {
        "colab": {
          "base_uri": "https://localhost:8080/"
        },
        "id": "OUvxlRZjzvJO",
        "outputId": "dba261b6-18b5-43c4-ffb3-b6f7856eb3d8"
      },
      "id": "OUvxlRZjzvJO",
      "execution_count": null,
      "outputs": [
        {
          "output_type": "execute_result",
          "data": {
            "text/plain": [
              "True"
            ]
          },
          "metadata": {},
          "execution_count": 8
        }
      ]
    },
    {
      "cell_type": "code",
      "execution_count": null,
      "id": "99d0297e",
      "metadata": {
        "id": "99d0297e",
        "outputId": "974eaaa1-cbd7-476c-b02b-cdb420afc222",
        "colab": {
          "base_uri": "https://localhost:8080/"
        }
      },
      "outputs": [
        {
          "output_type": "stream",
          "name": "stdout",
          "text": [
            "2011-03-12\n",
            "2014-01-12\n",
            "2014-03-12\n",
            "2021-02-12\n",
            "2021-12-12\n"
          ]
        }
      ],
      "source": [
        "# Orders placed in dates (sorted)\n",
        "for x in orders:\n",
        "    print(x.order_date)"
      ]
    },
    {
      "cell_type": "code",
      "execution_count": null,
      "id": "065fab27",
      "metadata": {
        "id": "065fab27"
      },
      "outputs": [],
      "source": [
        "# We are now sorting our orders in ascending order and we will see how merge sort assists in the same.\n",
        "orderamt=[]\n",
        "for i in orders:\n",
        "    orderamt.append(i.total_amount)"
      ]
    },
    {
      "cell_type": "code",
      "execution_count": null,
      "id": "81056966",
      "metadata": {
        "id": "81056966"
      },
      "outputs": [],
      "source": [
        "def merge(left, right, compare):\n",
        "    \"\"\"Assumes left and right are sorted lists and \n",
        "       compare defines an ordering on the elements.\n",
        "       Returns a new sorted (by compare) list containing\n",
        "       the same elements as (left + right) would contain.\"\"\"\n",
        "    result = []\n",
        "    i, j = 0, 0\n",
        "    while i < len(left) and j < len(right):\n",
        "        if compare(left[i], right[j]):\n",
        "            result.append(left[i])\n",
        "            i += 1\n",
        "        else:\n",
        "            result.append(right[j])\n",
        "            j += 1\n",
        "    while (i < len(left)) :\n",
        "        result.append(left[i])\n",
        "        i += 1\n",
        "    while (j < len(right)):\n",
        "        result.append(right[j])\n",
        "        j += 1\n",
        "    return result\n",
        "def merge_sort(L, compare = lambda x, y: x < y):\n",
        "    \"\"\"Assumes L is a list, compare defines an ordering\n",
        "       on elements of L.\n",
        "       Returns a new sorted list with the same elements as L\"\"\"\n",
        "    if len(L) < 2:\n",
        "        return L[:]\n",
        "    else:\n",
        "        middle = len(L) // 2\n",
        "        left = merge_sort(L[:middle], compare)\n",
        "        right = merge_sort(L[middle:], compare)\n",
        "        return merge(left, right, compare)\n",
        "\n",
        "# As far as the above code is considered, the complexity is O(log N), where N is len(L)"
      ]
    },
    {
      "cell_type": "code",
      "execution_count": null,
      "id": "97835fa5",
      "metadata": {
        "id": "97835fa5",
        "outputId": "b0e001e6-83f4-4341-c124-c1f24e76b13e",
        "colab": {
          "base_uri": "https://localhost:8080/"
        }
      },
      "outputs": [
        {
          "output_type": "execute_result",
          "data": {
            "text/plain": [
              "[4000, 4500, 6000, 8000, 12000]"
            ]
          },
          "metadata": {},
          "execution_count": 12
        }
      ],
      "source": [
        "# Order amount in ascending order.\n",
        "merge_sort(orderamt)"
      ]
    },
    {
      "cell_type": "code",
      "execution_count": null,
      "id": "dcfad2f5",
      "metadata": {
        "id": "dcfad2f5"
      },
      "outputs": [],
      "source": [
        "#Order placed prior to dates, given\n",
        "def prior_dates(orders, date):\n",
        "    date = datetime.datetime.strptime(date, '%m-%d-%Y').date()\n",
        "    return_lst = []\n",
        "    orders.sort()\n",
        "    for x in orders:\n",
        "        if x.order_date < date:\n",
        "            return_lst.append(x)\n",
        "    \n",
        "    return return_lst\n",
        "\n",
        "# The line 4 takes O(N* log N) and additional O(N) time is taken for the search.\n",
        "# Hence complexity computes to O(N* log N) "
      ]
    },
    {
      "cell_type": "code",
      "execution_count": null,
      "id": "1e37665d",
      "metadata": {
        "scrolled": true,
        "id": "1e37665d",
        "outputId": "7fd232ba-b92f-4edf-eaaf-3fc6ca098de8",
        "colab": {
          "base_uri": "https://localhost:8080/"
        }
      },
      "outputs": [
        {
          "output_type": "stream",
          "name": "stdout",
          "text": [
            "2011-03-12\n",
            "2014-01-12\n",
            "2014-03-12\n"
          ]
        }
      ],
      "source": [
        "result = prior_dates(orders, '04-13-2017')\n",
        "for x in result:\n",
        "    print(x.order_date)"
      ]
    },
    {
      "cell_type": "code",
      "execution_count": null,
      "id": "701b3696",
      "metadata": {
        "id": "701b3696"
      },
      "outputs": [],
      "source": [
        "#Order placed after dates given\n",
        "def after_dates(orders, date):\n",
        "    date = datetime.datetime.strptime(date, '%m-%d-%Y').date()\n",
        "    return_lst = []\n",
        "    orders.sort()\n",
        "    for x in orders:\n",
        "        if x.order_date > date:\n",
        "            return_lst.append(x)\n",
        "    \n",
        "    return return_lst\n",
        "# Algorithmic Complexity-\n",
        "# Our sorting method takes O(log N) and we have defined our list, which takes additional O(N)\n",
        "# Hence, our complexity computes to O(N* Log N)"
      ]
    },
    {
      "cell_type": "code",
      "execution_count": null,
      "id": "643e920f",
      "metadata": {
        "id": "643e920f",
        "outputId": "922ee53a-67b0-4c9f-8d97-223b93b1d507",
        "colab": {
          "base_uri": "https://localhost:8080/"
        }
      },
      "outputs": [
        {
          "output_type": "stream",
          "name": "stdout",
          "text": [
            "2021-12-12\n",
            "2021-02-12\n"
          ]
        }
      ],
      "source": [
        "result = after_dates(orders, '04-13-2017')\n",
        "for x in result:\n",
        "    print(x.order_date)"
      ]
    },
    {
      "cell_type": "markdown",
      "id": "629a0b04",
      "metadata": {
        "id": "629a0b04"
      },
      "source": [
        "### Zipcode and Store Check"
      ]
    },
    {
      "cell_type": "code",
      "execution_count": null,
      "id": "c8dd81ce",
      "metadata": {
        "id": "c8dd81ce",
        "outputId": "a27aaccb-3671-484e-a243-b4e7227311d8",
        "colab": {
          "base_uri": "https://localhost:8080/"
        }
      },
      "outputs": [
        {
          "output_type": "stream",
          "name": "stdout",
          "text": [
            "21476\n",
            "21487\n",
            "21227\n",
            "21224\n",
            "21321\n"
          ]
        }
      ],
      "source": [
        "#Check for zipcodes at the store\n",
        "for i in orders:\n",
        "    print(i.store.zcode)"
      ]
    },
    {
      "cell_type": "code",
      "execution_count": null,
      "id": "1211ae55",
      "metadata": {
        "id": "1211ae55"
      },
      "outputs": [],
      "source": [
        "# We create a list to store the zip and store address\n",
        "ordlo=[]\n",
        "cpdt=[]\n",
        "for i in orders:\n",
        "    ordlo.append(i.customer.zip_code)\n",
        "    cpdt.append(i.store.address)"
      ]
    },
    {
      "cell_type": "code",
      "execution_count": null,
      "id": "097bd931",
      "metadata": {
        "id": "097bd931",
        "outputId": "84eae513-ebd3-4e15-ea57-ddc72e2aa3e7",
        "colab": {
          "base_uri": "https://localhost:8080/"
        }
      },
      "outputs": [
        {
          "output_type": "execute_result",
          "data": {
            "text/plain": [
              "[21476,\n",
              " 'Chings Street',\n",
              " 21487,\n",
              " 'Silver Street',\n",
              " 21227,\n",
              " 'Halefield View',\n",
              " 21224,\n",
              " 'Arbutus Local',\n",
              " 21321,\n",
              " 'Maze Point']"
            ]
          },
          "metadata": {},
          "execution_count": 19
        }
      ],
      "source": [
        "# Well merge them together to get them all.\n",
        "lit = [None]*(len(ordlo)+len(cpdt))\n",
        "lit[::2] = ordlo\n",
        "lit[1::2] = cpdt\n",
        "lit"
      ]
    },
    {
      "cell_type": "code",
      "execution_count": null,
      "id": "1ce6d329",
      "metadata": {
        "id": "1ce6d329"
      },
      "outputs": [],
      "source": [
        "# We will search the list to get the zipcode and its corresponding store\n",
        "def search_zipcode(a):\n",
        "    search_term = a\n",
        "    for i in range(len(lit)-1):\n",
        "        if lit[i] == search_term:\n",
        "            result = lit[i+1]\n",
        "    return result\n",
        "# Algorithmic Complexity-\n",
        "# Final complexity computes to O(N), where N is the length of the list lit, we defined."
      ]
    },
    {
      "cell_type": "code",
      "execution_count": null,
      "id": "1eed3784",
      "metadata": {
        "id": "1eed3784",
        "outputId": "323a45e8-1ddb-401d-af12-787f83e4fd80",
        "colab": {
          "base_uri": "https://localhost:8080/",
          "height": 35
        }
      },
      "outputs": [
        {
          "output_type": "execute_result",
          "data": {
            "application/vnd.google.colaboratory.intrinsic+json": {
              "type": "string"
            },
            "text/plain": [
              "'Halefield View'"
            ]
          },
          "metadata": {},
          "execution_count": 21
        }
      ],
      "source": [
        "search_zipcode(21227)"
      ]
    },
    {
      "cell_type": "code",
      "execution_count": null,
      "id": "307b99a9",
      "metadata": {
        "id": "307b99a9"
      },
      "outputs": [],
      "source": [
        "# Check for the stores, if exists for the zip code entered. [Alternate search approach]\n",
        "def storecheckzip(s):\n",
        "  try:\n",
        "    if s in lit:\n",
        "      print('Store exists for the Zipcode')\n",
        "  except:\n",
        "    print('No Store exists for the zip code')"
      ]
    },
    {
      "cell_type": "code",
      "execution_count": null,
      "id": "252bc7e2",
      "metadata": {
        "id": "252bc7e2",
        "colab": {
          "base_uri": "https://localhost:8080/"
        },
        "outputId": "8ab66f13-19b5-4cd0-f60f-6ce5e0f43b61"
      },
      "outputs": [
        {
          "output_type": "stream",
          "name": "stdout",
          "text": [
            "Store exists for the Zipcode\n"
          ]
        }
      ],
      "source": [
        "storecheckzip(21227)"
      ]
    },
    {
      "cell_type": "code",
      "source": [
        "# Unit Testing- For Zip codes to see if the order exists or not.\n",
        "def test(x):\n",
        "  try:\n",
        "      assert 21227 in x\n",
        "      assert 21224 in x\n",
        "      assert 21476 in x\n",
        "      assert 21224 in x\n",
        "      assert 21321 in x\n",
        "      return True\n",
        "  except AssertionError as msg:\n",
        "    print('Test-Failed-All or one Zipcodes dont exists for the store')"
      ],
      "metadata": {
        "id": "XeI0oeOLQTlA"
      },
      "id": "XeI0oeOLQTlA",
      "execution_count": null,
      "outputs": []
    },
    {
      "cell_type": "code",
      "source": [
        "test(lit)"
      ],
      "metadata": {
        "colab": {
          "base_uri": "https://localhost:8080/"
        },
        "id": "Kl3TScXkSJzn",
        "outputId": "2dad6a06-afc7-4863-ef5a-0cf3eb929a2f"
      },
      "id": "Kl3TScXkSJzn",
      "execution_count": null,
      "outputs": [
        {
          "output_type": "execute_result",
          "data": {
            "text/plain": [
              "True"
            ]
          },
          "metadata": {},
          "execution_count": 25
        }
      ]
    },
    {
      "cell_type": "code",
      "source": [
        ""
      ],
      "metadata": {
        "id": "Wk6678xyTT6Y"
      },
      "id": "Wk6678xyTT6Y",
      "execution_count": null,
      "outputs": []
    }
  ],
  "metadata": {
    "kernelspec": {
      "display_name": "Python 3 (ipykernel)",
      "language": "python",
      "name": "python3"
    },
    "language_info": {
      "codemirror_mode": {
        "name": "ipython",
        "version": 3
      },
      "file_extension": ".py",
      "mimetype": "text/x-python",
      "name": "python",
      "nbconvert_exporter": "python",
      "pygments_lexer": "ipython3",
      "version": "3.9.7"
    },
    "colab": {
      "name": "final_project_jacob_rohan.ipynb",
      "provenance": [],
      "collapsed_sections": []
    },
    "accelerator": "GPU"
  },
  "nbformat": 4,
  "nbformat_minor": 5
}